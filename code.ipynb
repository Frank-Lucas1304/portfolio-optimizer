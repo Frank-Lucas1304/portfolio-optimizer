{
 "cells": [
  {
   "cell_type": "markdown",
   "id": "35bb4dba",
   "metadata": {},
   "source": [
    "# Data extraction"
   ]
  },
  {
   "cell_type": "code",
   "execution_count": 30,
   "id": "6970e214",
   "metadata": {},
   "outputs": [
    {
     "name": "stderr",
     "output_type": "stream",
     "text": [
      "[*********************100%***********************]  1 of 1 completed"
     ]
    },
    {
     "name": "stdout",
     "output_type": "stream",
     "text": [
      "Ticker            AAPL\n",
      "Date                  \n",
      "1997-01-14    0.134305\n",
      "1997-01-15    0.129609\n",
      "1997-01-16    0.125852\n",
      "1997-01-17    0.125852\n",
      "1997-01-20    0.127261\n",
      "...                ...\n",
      "2024-05-24  189.095657\n",
      "2024-05-28  189.105621\n",
      "2024-05-29  189.404205\n",
      "2024-05-30  190.399567\n",
      "2024-05-31  191.355103\n",
      "\n",
      "[6891 rows x 1 columns]\n"
     ]
    },
    {
     "name": "stderr",
     "output_type": "stream",
     "text": [
      "\n"
     ]
    }
   ],
   "source": [
    "import yfinance as yf\n",
    "from datetime import datetime, timedelta\n",
    "\n",
    "tickers = yf.Tickers(\"AAPL\")\n",
    "end_date = datetime(2024, 6, 1)\n",
    "start_date = end_date - timedelta(days=10000)\n",
    "data = tickers.history(start=start_date, end=end_date)\n",
    "closing_price = data['Close']\n",
    "print(closing_price)\n",
    "\n"
   ]
  },
  {
   "cell_type": "markdown",
   "id": "cb7c5d33",
   "metadata": {},
   "source": [
    "# Feature Construction"
   ]
  },
  {
   "cell_type": "code",
   "execution_count": 31,
   "id": "2f5cdfdd",
   "metadata": {},
   "outputs": [
    {
     "name": "stdout",
     "output_type": "stream",
     "text": [
      "61569\n",
      "(6841, 9)\n",
      "              ret_1d    ret_5d   ret_10d    vol_5d   vol_10d  sma_ratio_10_50  \\\n",
      "Date                                                                            \n",
      "1997-03-25  0.000000  0.015383  0.007633  0.039462  0.027440         0.994721   \n",
      "1997-03-26  0.015157  0.038764  0.030774  0.039140  0.027581         0.999093   \n",
      "1997-03-27  0.111940  0.079712  0.137410  0.056437  0.044132         1.011002   \n",
      "1997-03-31 -0.020139  0.097738  0.101887  0.053022  0.045430         1.019333   \n",
      "1997-04-01 -0.041093  0.060609  0.060609  0.059133  0.048194         1.024426   \n",
      "...              ...       ...       ...       ...       ...              ...   \n",
      "2024-05-23 -0.021058 -0.015592  0.013889  0.011595  0.011112         1.076088   \n",
      "2024-05-24  0.016588  0.000579  0.037858  0.014665  0.011626         1.077923   \n",
      "2024-05-28  0.000053 -0.005496  0.019916  0.014294  0.010579         1.077875   \n",
      "2024-05-29  0.001579 -0.010710  0.015259  0.013751  0.010478         1.077442   \n",
      "2024-05-30  0.005255  0.002043  0.008275  0.013671  0.009907         1.076447   \n",
      "\n",
      "            z_score_20d     rsi_14          y  \n",
      "Date                                           \n",
      "1997-03-25    -0.166044  43.102948  -1.493103  \n",
      "1997-03-26     0.731357  51.785306 -10.067091  \n",
      "1997-03-27     3.676941  70.237657   2.055304  \n",
      "1997-03-31     2.362826  64.770883   4.285441  \n",
      "1997-04-01     1.090419  59.375077  -2.777630  \n",
      "...                 ...        ...        ...  \n",
      "2024-05-23     0.527965  59.113972  -1.631752  \n",
      "2024-05-24     0.851283  69.358230  -0.005269  \n",
      "2024-05-28     0.771657  68.382147  -0.157644  \n",
      "2024-05-29     0.757412  68.323328  -0.522775  \n",
      "2024-05-30     0.935907  67.041537  -0.499352  \n",
      "\n",
      "[6841 rows x 9 columns]\n"
     ]
    }
   ],
   "source": [
    "import pandas as pd\n",
    "import numpy as np\n",
    "\n",
    "# Daily Return\n",
    "daily_return = closing_price.pct_change()\n",
    "daily_return.columns = ['ret_1d']\n",
    "\n",
    "# 5-Day Return\n",
    "ret_5d = closing_price.pct_change(5)\n",
    "ret_5d.columns = ['ret_5d']\n",
    "\n",
    "# 10-Day Return\n",
    "ret_10d = closing_price.pct_change(10)\n",
    "ret_10d.columns=['ret_10d']\n",
    "# 5-Day Volatility (Std Dev of Returns)\n",
    "vol_5d = closing_price.pct_change().rolling(window=5).std()\n",
    "vol_5d.columns=['vol_5d']\n",
    "\n",
    "# 10-Day Volatility\n",
    "vol_10d = closing_price.pct_change().rolling(window=10).std()\n",
    "vol_10d.columns=['vol_10d']\n",
    "\n",
    "# Momentum (10d)\n",
    "momentum_10d = closing_price - closing_price.shift(10)\n",
    "momentum_10d.columns=['momentum_10d']\n",
    "\n",
    "# SMA_10/SMA_50 Ratio\n",
    "sma_10 = closing_price.rolling(window=10).mean()\n",
    "sma_50 = closing_price.rolling(window=50).mean()\n",
    "sma_ratio = sma_10/sma_50\n",
    "sma_ratio.columns = ['sma_ratio_10_50']\n",
    "\n",
    "# Z-score (20d)\n",
    "rolling_mean = closing_price.rolling(window=20).mean()\n",
    "rolling_std = closing_price.rolling(window=20).std()\n",
    "z_score_20d = (closing_price - rolling_mean)/rolling_std\n",
    "z_score_20d.columns = ['z_score_20d']\n",
    "\n",
    "# RSI (14d)\n",
    "delta = closing_price.diff()\n",
    "gain = delta.where(delta > 0, 0.0)\n",
    "loss = -delta.where(delta < 0, 0.0)\n",
    "\n",
    "avg_gain = gain.rolling(window=14).mean()\n",
    "avg_loss = loss.rolling(window=14).mean()\n",
    "\n",
    "rs = avg_gain/avg_loss\n",
    "rsi_14 = 100 - (100 / (1 + rs))\n",
    "rsi_14.columns = ['rsi_14']\n",
    "\n",
    "\n",
    "# Features DataFrame\n",
    "\n",
    "y =  closing_price.pct_change(-1)*100\n",
    "y.columns = ['y']\n",
    "features = pd.concat([\n",
    "    daily_return,\n",
    "    ret_5d,\n",
    "    ret_10d,\n",
    "    vol_5d,\n",
    "    vol_10d,\n",
    "    sma_ratio,\n",
    "    z_score_20d,\n",
    "    rsi_14,\n",
    "    y\n",
    "\n",
    "],axis=1).dropna()\n",
    "features.head()\n",
    "print(features.size)\n",
    "print(features.shape)\n",
    "print(features)\n",
    "\n"
   ]
  },
  {
   "cell_type": "markdown",
   "id": "af547df2",
   "metadata": {},
   "source": [
    "# ML Model - Linear Regression"
   ]
  },
  {
   "cell_type": "code",
   "execution_count": null,
   "id": "547af9e5",
   "metadata": {},
   "outputs": [
    {
     "name": "stdout",
     "output_type": "stream",
     "text": [
      "Mean Squared Error 6.340311585380458\n",
      "Min of y: -24.940721380047126\n",
      "Max of y: 107.76720459871676\n",
      "range :  132.70792597876388\n",
      "error : 1.897398001101363 %\n",
      "0.003858515654681205 1.7318529146834947 6.340311585380458\n",
      "1.3045963314304694\n"
     ]
    }
   ],
   "source": [
    "from sklearn.model_selection import train_test_split\n",
    "from sklearn.linear_model import LinearRegression\n",
    "from sklearn.metrics import mean_squared_error\n",
    "\n",
    "# Features df\n",
    "X = features.drop(columns=['y'])\n",
    "\n",
    "# Target Columns\n",
    "y = features['y']\n",
    "\n",
    "# Train-test split\n",
    "X_train, X_test, y_train, y_test = train_test_split(X,y,test_size=0.2,random_state=42)\n",
    "\n",
    "# Train a Linear Regression model (least squared)\n",
    "model = LinearRegression()\n",
    "model.fit(X_train, y_train) # Find A in y=Ax\n",
    "\n",
    "# Predict and evaluate\n",
    "y_pred = model.predict(X_test) # Predict y_test using the A matrix found and X_test\n",
    "mse = mean_squared_error(y_test,y_pred) # Compare the found y_test (y_prep) to the true y_test\n",
    "print('Mean Squared Error', mse)\n",
    "\n",
    "print('Min of y:', y.min())\n",
    "print('Max of y:', y.max())\n",
    "\n",
    "range_y = y.max() - y.min()\n",
    "print('range : ', range_y)\n",
    "\n",
    "pour_error = ((mse**(1/2)/range_y)*100)\n",
    "print('error :', pour_error, '%')\n",
    "\n",
    "from sklearn.metrics import r2_score\n",
    "from sklearn.metrics import mean_absolute_error\n",
    "r2 = r2_score(y_test, y_pred)\n",
    "rmse = mean_absolute_error(y_test, y_pred)\n",
    "mse = mean_squared_error(y_test, y_pred)\n",
    "print(r2,rmse,mse)\n",
    "\n",
    "q1 = y.quantile(0.25)\n",
    "q3 = y.quantile(0.75)\n",
    "iqr = q3 - q1\n",
    "nRMSE = (mse*(1/2)) / iqr\n",
    "print(nRMSE) # <0.5 excellent, 0.5-1.0 good, 1.0-1.5 moderate, >1.5 Weak\n"
   ]
  }
 ],
 "metadata": {
  "kernelspec": {
   "display_name": "venv",
   "language": "python",
   "name": "python3"
  },
  "language_info": {
   "codemirror_mode": {
    "name": "ipython",
    "version": 3
   },
   "file_extension": ".py",
   "mimetype": "text/x-python",
   "name": "python",
   "nbconvert_exporter": "python",
   "pygments_lexer": "ipython3",
   "version": "3.12.3"
  }
 },
 "nbformat": 4,
 "nbformat_minor": 5
}
