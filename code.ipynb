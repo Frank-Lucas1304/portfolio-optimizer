{
 "cells": [
  {
   "cell_type": "markdown",
   "id": "35bb4dba",
   "metadata": {},
   "source": [
    "# Data extraction"
   ]
  },
  {
   "cell_type": "code",
   "execution_count": 3,
   "id": "6970e214",
   "metadata": {},
   "outputs": [
    {
     "name": "stderr",
     "output_type": "stream",
     "text": [
      "[*********************100%***********************]  1 of 1 completed"
     ]
    },
    {
     "name": "stdout",
     "output_type": "stream",
     "text": [
      "Ticker            AAPL\n",
      "Date                  \n",
      "2025-04-21  192.907028\n",
      "2025-04-22  199.478424\n",
      "2025-04-23  204.332062\n",
      "2025-04-24  208.097107\n",
      "2025-04-25  209.005920\n",
      "2025-04-28  209.864792\n",
      "2025-04-29  210.933395\n",
      "2025-04-30  212.221710\n",
      "2025-05-01  213.040634\n",
      "2025-05-02  205.081070\n",
      "2025-05-05  198.629532\n",
      "2025-05-06  198.250015\n",
      "2025-05-07  195.992981\n",
      "2025-05-08  197.231369\n",
      "2025-05-09  198.270004\n",
      "2025-05-12  210.789993\n",
      "2025-05-13  212.929993\n",
      "2025-05-14  212.330002\n",
      "2025-05-15  211.449997\n",
      "2025-05-16  211.259995\n",
      "2025-05-19  208.779999\n",
      "2025-05-20  206.860001\n",
      "2025-05-21  202.050003\n"
     ]
    },
    {
     "name": "stderr",
     "output_type": "stream",
     "text": [
      "\n"
     ]
    }
   ],
   "source": [
    "import yfinance as yf\n",
    "\n",
    "tickers = yf.Tickers(\"AAPL\")\n",
    "data = tickers.history(period=\"1mo\")\n",
    "closing_price = data['Close']\n",
    "print(closing_price)\n",
    "\n"
   ]
  },
  {
   "cell_type": "markdown",
   "id": "cb7c5d33",
   "metadata": {},
   "source": [
    "# Feature Construction"
   ]
  }
 ],
 "metadata": {
  "kernelspec": {
   "display_name": "venv",
   "language": "python",
   "name": "python3"
  },
  "language_info": {
   "codemirror_mode": {
    "name": "ipython",
    "version": 3
   },
   "file_extension": ".py",
   "mimetype": "text/x-python",
   "name": "python",
   "nbconvert_exporter": "python",
   "pygments_lexer": "ipython3",
   "version": "3.10.12"
  }
 },
 "nbformat": 4,
 "nbformat_minor": 5
}
