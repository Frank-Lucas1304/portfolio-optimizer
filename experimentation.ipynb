{
 "cells": [
  {
   "cell_type": "markdown",
   "id": "73f30c4e",
   "metadata": {},
   "source": [
    "# PLAN\n",
    "## Initial\n",
    "#### Safe bet to use Alpha Vantage to develop Model\n",
    "## Final Step\n",
    "#### Once ready to do extensive tranning with Multiple Stocks we will need to use SEC EDGAR most likely (need to figure that out) or pay for like a month subscription of Alpha Vantage"
   ]
  },
  {
   "cell_type": "code",
   "execution_count": null,
   "id": "d4af4d4a",
   "metadata": {},
   "outputs": [],
   "source": [
    "import requests\n",
    "import pandas as pd\n",
    "from datetime import datetime, timedelta\n",
    "\n",
    "\n",
    "# Using FMP\n",
    "# - This is more accurate and consitent! Yahoo is web scrapping\n",
    "# - Provides the financial statetement for a broader range then yahoo finance\n",
    "\n",
    "# Key which is given from my FMP account. (This key is needed to make requests) Maximum of 200 calls/day\n",
    "API_KEY = \"wUvM2M29ZVxHDvK8IRp2P7iyrT8uhQG4\"\n",
    "\n",
    "ticker = \"AAPL\"\n",
    "\n",
    "end_date = datetime(2024, 6, 1)\n",
    "start_date = end_date - timedelta(days=50)\n",
    "\n",
    "url_hist_stock_price = f\"https://financialmodelingprep.com/stable/historical-price-eod/light?symbol={ticker}&from={start_date.date()}&to={end_date.date()}&apikey={API_KEY}\"\n",
    "\n",
    "# Historical Data Request\n",
    "response_hist_stock_price = requests.get(url_hist_stock_price)\n",
    "\n",
    "json_response_hist_stock_price = response_hist_stock_price.json()\n"
   ]
  },
  {
   "cell_type": "code",
   "execution_count": null,
   "id": "290ac6ec",
   "metadata": {},
   "outputs": [],
   "source": [
    "closing_price = pd.DataFrame(json_response_hist_stock_price)\n",
    "\n",
    "# Convert 'date' to datetime type\n",
    "closing_price['date'] = pd.to_datetime(closing_price['date'])\n",
    "\n",
    "# Keep only 'date' and 'price' columns\n",
    "closing_price = closing_price[['date', 'price']]\n",
    "\n",
    "# Set 'date' as the index\n",
    "closing_price.set_index('date', inplace=True)\n",
    "\n",
    "print(closing_price)"
   ]
  },
  {
   "cell_type": "code",
   "execution_count": 146,
   "id": "3d46be53",
   "metadata": {},
   "outputs": [],
   "source": [
    "# ALPHA VANTAGE EXPERIMENTING (https://www.alphavantage.co/documentation/#)\n",
    "# gives some insight into the different attributes without sending demo request: https://documentation.alphavantage.co/FundamentalDataDocs/gaap_documentation.html\n",
    "\n",
    "API_KEY = \"FJLURMBXQEXWW9PP\"\n",
    "\n",
    "ticker = \"AAPL\"\n",
    "\n",
    "def getInfo(function:str,ticker:str):\n",
    "    url = f\"https://www.alphavantage.co/query?function={function.upper()}&symbol={ticker}&apikey={API_KEY}\"\n",
    "    response = requests.get(url)\n",
    "    return response.json()"
   ]
  },
  {
   "cell_type": "code",
   "execution_count": 147,
   "id": "10c603bc",
   "metadata": {},
   "outputs": [],
   "source": [
    "# Income Statement\n",
    "r_income_statements = getInfo(\"income_statement\",ticker)\n",
    "r_balance_sheet = getInfo(\"balance_sheet\",ticker)\n",
    "r_cash_flow = getInfo(\"cash_flow\",ticker)"
   ]
  },
  {
   "cell_type": "code",
   "execution_count": 154,
   "id": "41c0f86f",
   "metadata": {},
   "outputs": [],
   "source": [
    "df_income_statement = pd.DataFrame(r_income_statements[\"quarterlyReports\"])\n",
    "#print(df_income_statement.columns)\n",
    "\n",
    "df_income_statement.set_index(\"fiscalDateEnding\", inplace=True)\n",
    "net_income_str = df_income_statement['netIncome']\n",
    "net_income = net_income_str.apply(pd.to_numeric, errors='coerce')\n",
    "\n",
    "\n"
   ]
  },
  {
   "cell_type": "code",
   "execution_count": 155,
   "id": "96bb1271",
   "metadata": {},
   "outputs": [],
   "source": [
    "df_cash_flow = pd.DataFrame(r_cash_flow[\"quarterlyReports\"])\n",
    "df_cash_flow.set_index(\"fiscalDateEnding\", inplace=True)\n",
    "\n",
    "#print(df_cash_flow.columns)\n",
    "\n",
    "preferedStock_str = df_cash_flow[\"dividendPayoutPreferredStock\"]\n",
    "preferedStock = preferedStock_str.apply(pd.to_numeric, errors='coerce')\n",
    "preferedStock = preferedStock.fillna(0)\n"
   ]
  },
  {
   "cell_type": "code",
   "execution_count": null,
   "id": "57a833f0",
   "metadata": {},
   "outputs": [
    {
     "name": "stdout",
     "output_type": "stream",
     "text": [
      "fiscalDateEnding\n",
      "2025-03-31    15056133000\n",
      "2024-12-31    15150865000\n",
      "2024-09-30    15408095000\n",
      "2024-06-30    15348175000\n",
      "2024-03-31    15464709000\n",
      "                 ...     \n",
      "2006-03-31    24599036000\n",
      "2005-12-31    24477796000\n",
      "2005-09-30    24477796000\n",
      "2005-06-30    24102484000\n",
      "2005-03-31    23996308000\n",
      "Name: commonStockSharesOutstanding, Length: 81, dtype: int64\n",
      "                       EPS\n",
      "fiscalDateEnding          \n",
      "2025-03-31        1.645841\n",
      "2024-12-31        2.397883\n",
      "2024-09-30        0.956380\n",
      "2024-06-30        1.397430\n",
      "2024-03-31        1.528383\n",
      "...                    ...\n",
      "2006-03-31        0.016667\n",
      "2005-12-31        0.023082\n",
      "2005-09-30        0.017567\n",
      "2005-06-30        0.013235\n",
      "2005-03-31        0.012085\n",
      "\n",
      "[81 rows x 1 columns]\n"
     ]
    }
   ],
   "source": [
    "df_balance_sheet = pd.DataFrame(r_balance_sheet[\"quarterlyReports\"])\n",
    "df_balance_sheet.set_index(\"fiscalDateEnding\", inplace=True)\n",
    "\n",
    "#print(df_balance_sheet.columns)\n",
    "\n",
    "outstandingShares_str = df_balance_sheet[\"commonStockSharesOutstanding\"]\n",
    "outstandingShares = outstandingShares_str.apply(pd.to_numeric, errors='coerce')\n",
    "df_metrics = pd.DataFrame()\n",
    "df_metrics[\"EPS\"] = (net_income - preferedStock)/ outstandingShares #IMPORTANT DID NOT CONSIDER PREFERED DIVVIDEND HERE\n",
    "\n",
    "# Find common dates\n",
    "\n",
    "print(df_metrics)\n",
    "\n",
    "# Calculate EPS ignoring rows with NaN (optional)\n",
    "\n",
    "\n"
   ]
  }
 ],
 "metadata": {
  "kernelspec": {
   "display_name": "venv",
   "language": "python",
   "name": "python3"
  },
  "language_info": {
   "codemirror_mode": {
    "name": "ipython",
    "version": 3
   },
   "file_extension": ".py",
   "mimetype": "text/x-python",
   "name": "python",
   "nbconvert_exporter": "python",
   "pygments_lexer": "ipython3",
   "version": "3.10.12"
  }
 },
 "nbformat": 4,
 "nbformat_minor": 5
}
