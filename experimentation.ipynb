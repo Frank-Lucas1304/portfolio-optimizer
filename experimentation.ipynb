{
 "cells": [
  {
   "cell_type": "markdown",
   "id": "73f30c4e",
   "metadata": {},
   "source": [
    "# PLAN\n",
    "## Initial\n",
    "#### Safe bet to use Alpha Vantage to develop Model\n",
    "## Final Step\n",
    "#### Once ready to do extensive tranning with Multiple Stocks we will need to use SEC EDGAR most likely (need to figure that out) or pay for like a month subscription of Alpha Vantage"
   ]
  },
  {
   "cell_type": "code",
   "execution_count": 1,
   "id": "d4af4d4a",
   "metadata": {},
   "outputs": [],
   "source": [
    "import requests\n",
    "import pandas as pd\n",
    "from datetime import datetime, timedelta\n",
    "\n",
    "\n",
    "# Using FMP\n",
    "# - This is more accurate and consitent! Yahoo is web scrapping\n",
    "# - Provides the financial statetement for a broader range then yahoo finance\n",
    "\n",
    "# Key which is given from my FMP account. (This key is needed to make requests) Maximum of 200 calls/day\n",
    "API_KEY = \"wUvM2M29ZVxHDvK8IRp2P7iyrT8uhQG4\"\n",
    "\n",
    "ticker = \"AAPL\"\n",
    "\n",
    "end_date = datetime(2024, 6, 1)\n",
    "start_date = end_date - timedelta(days=50)\n",
    "\n",
    "url_hist_stock_price = f\"https://financialmodelingprep.com/stable/historical-price-eod/light?symbol={ticker}&from={start_date.date()}&to={end_date.date()}&apikey={API_KEY}\"\n",
    "\n",
    "# Historical Data Request\n",
    "response_hist_stock_price = requests.get(url_hist_stock_price)\n",
    "\n",
    "json_response_hist_stock_price = response_hist_stock_price.json()\n"
   ]
  },
  {
   "cell_type": "code",
   "execution_count": 2,
   "id": "290ac6ec",
   "metadata": {},
   "outputs": [
    {
     "name": "stdout",
     "output_type": "stream",
     "text": [
      "             price\n",
      "date              \n",
      "2024-05-31  192.25\n",
      "2024-05-30  191.29\n",
      "2024-05-29  190.29\n",
      "2024-05-28  189.99\n",
      "2024-05-24  189.98\n",
      "2024-05-23  186.88\n",
      "2024-05-22  190.90\n",
      "2024-05-21  192.35\n",
      "2024-05-20  191.04\n",
      "2024-05-17  189.87\n",
      "2024-05-16  189.84\n",
      "2024-05-15  189.72\n",
      "2024-05-14  187.43\n",
      "2024-05-13  186.28\n",
      "2024-05-10  183.05\n",
      "2024-05-09  184.57\n",
      "2024-05-08  182.74\n",
      "2024-05-07  182.40\n",
      "2024-05-06  181.71\n",
      "2024-05-03  183.38\n",
      "2024-05-02  173.03\n",
      "2024-05-01  169.30\n",
      "2024-04-30  170.33\n",
      "2024-04-29  173.50\n",
      "2024-04-26  169.30\n",
      "2024-04-25  169.89\n",
      "2024-04-24  169.02\n",
      "2024-04-23  166.90\n",
      "2024-04-22  165.84\n",
      "2024-04-19  165.00\n",
      "2024-04-18  167.04\n",
      "2024-04-17  168.00\n",
      "2024-04-16  169.38\n",
      "2024-04-15  172.69\n",
      "2024-04-12  176.55\n"
     ]
    }
   ],
   "source": [
    "closing_price = pd.DataFrame(json_response_hist_stock_price)\n",
    "\n",
    "# Convert 'date' to datetime type\n",
    "closing_price['date'] = pd.to_datetime(closing_price['date'])\n",
    "\n",
    "# Keep only 'date' and 'price' columns\n",
    "closing_price = closing_price[['date', 'price']]\n",
    "\n",
    "# Set 'date' as the index\n",
    "closing_price.set_index('date', inplace=True)\n",
    "\n",
    "print(closing_price)"
   ]
  },
  {
   "cell_type": "code",
   "execution_count": 3,
   "id": "3d46be53",
   "metadata": {},
   "outputs": [],
   "source": [
    "# ALPHA VANTAGE EXPERIMENTING (https://www.alphavantage.co/documentation/#)\n",
    "# gives some insight into the different attributes without sending demo request: https://documentation.alphavantage.co/FundamentalDataDocs/gaap_documentation.html\n",
    "\n",
    "API_KEY = \"FJLURMBXQEXWW9PP\"\n",
    "\n",
    "ticker = \"AAPL\"\n",
    "\n",
    "def getInfo(function:str,ticker:str):\n",
    "    url = f\"https://www.alphavantage.co/query?function={function.upper()}&symbol={ticker}&apikey={API_KEY}\"\n",
    "    response = requests.get(url)\n",
    "    return response.json()"
   ]
  },
  {
   "cell_type": "code",
   "execution_count": 21,
   "id": "10c603bc",
   "metadata": {},
   "outputs": [],
   "source": [
    "# Requests\n",
    "r_income_statements = getInfo(\"income_statement\",ticker)\n",
    "r_balance_sheet = getInfo(\"balance_sheet\",ticker)\n",
    "r_cash_flow = getInfo(\"cash_flow\",ticker)"
   ]
  },
  {
   "cell_type": "code",
   "execution_count": 68,
   "id": "4f1ba720",
   "metadata": {},
   "outputs": [],
   "source": [
    "# Dataframes\n",
    "df_income_statement = pd.DataFrame(r_income_statements[\"quarterlyReports\"])\n",
    "df_income_statement = df_income_statement.rename(columns={\"fiscalDateEnding\": \"dates\"})\n",
    "df_income_statement.set_index(\"dates\", inplace=True)\n",
    "df_income_statement = df_income_statement.apply(pd.to_numeric, errors='coerce')\n",
    "df_income_statement = df_income_statement.fillna(0)\n",
    "\n",
    "\n",
    "\n",
    "df_balance_sheet = pd.DataFrame(r_balance_sheet[\"quarterlyReports\"])\n",
    "df_balance_sheet = df_balance_sheet.rename(columns={\"fiscalDateEnding\": \"dates\"})\n",
    "df_balance_sheet.set_index(\"dates\", inplace=True)\n",
    "df_balance_sheet = df_balance_sheet.apply(pd.to_numeric, errors='coerce')\n",
    "df_balance_sheet = df_balance_sheet.fillna(0)\n",
    "\n",
    "\n",
    "df_cash_flow = pd.DataFrame(r_cash_flow[\"quarterlyReports\"])\n",
    "df_cash_flow = df_cash_flow.rename(columns={\"fiscalDateEnding\": \"dates\"})\n",
    "df_cash_flow.set_index(\"dates\", inplace=True)\n",
    "df_cash_flow = df_cash_flow.apply(pd.to_numeric, errors='coerce')\n",
    "df_cash_flow = df_cash_flow.fillna(0)\n"
   ]
  },
  {
   "cell_type": "code",
   "execution_count": 26,
   "id": "05d7cd33",
   "metadata": {},
   "outputs": [
    {
     "name": "stdout",
     "output_type": "stream",
     "text": [
      "Income Statement\n",
      " Index(['reportedCurrency', 'grossProfit', 'totalRevenue', 'costOfRevenue',\n",
      "       'costofGoodsAndServicesSold', 'operatingIncome',\n",
      "       'sellingGeneralAndAdministrative', 'researchAndDevelopment',\n",
      "       'operatingExpenses', 'investmentIncomeNet', 'netInterestIncome',\n",
      "       'interestIncome', 'interestExpense', 'nonInterestIncome',\n",
      "       'otherNonOperatingIncome', 'depreciation',\n",
      "       'depreciationAndAmortization', 'incomeBeforeTax', 'incomeTaxExpense',\n",
      "       'interestAndDebtExpense', 'netIncomeFromContinuingOperations',\n",
      "       'comprehensiveIncomeNetOfTax', 'ebit', 'ebitda', 'netIncome'],\n",
      "      dtype='object')\n",
      "Balance Sheet\n",
      " Index(['reportedCurrency', 'totalAssets', 'totalCurrentAssets',\n",
      "       'cashAndCashEquivalentsAtCarryingValue', 'cashAndShortTermInvestments',\n",
      "       'inventory', 'currentNetReceivables', 'totalNonCurrentAssets',\n",
      "       'propertyPlantEquipment', 'accumulatedDepreciationAmortizationPPE',\n",
      "       'intangibleAssets', 'intangibleAssetsExcludingGoodwill', 'goodwill',\n",
      "       'investments', 'longTermInvestments', 'shortTermInvestments',\n",
      "       'otherCurrentAssets', 'otherNonCurrentAssets', 'totalLiabilities',\n",
      "       'totalCurrentLiabilities', 'currentAccountsPayable', 'deferredRevenue',\n",
      "       'currentDebt', 'shortTermDebt', 'totalNonCurrentLiabilities',\n",
      "       'capitalLeaseObligations', 'longTermDebt', 'currentLongTermDebt',\n",
      "       'longTermDebtNoncurrent', 'shortLongTermDebtTotal',\n",
      "       'otherCurrentLiabilities', 'otherNonCurrentLiabilities',\n",
      "       'totalShareholderEquity', 'treasuryStock', 'retainedEarnings',\n",
      "       'commonStock', 'commonStockSharesOutstanding'],\n",
      "      dtype='object')\n",
      "Cash Flow\n",
      " Index(['reportedCurrency', 'operatingCashflow',\n",
      "       'paymentsForOperatingActivities', 'proceedsFromOperatingActivities',\n",
      "       'changeInOperatingLiabilities', 'changeInOperatingAssets',\n",
      "       'depreciationDepletionAndAmortization', 'capitalExpenditures',\n",
      "       'changeInReceivables', 'changeInInventory', 'profitLoss',\n",
      "       'cashflowFromInvestment', 'cashflowFromFinancing',\n",
      "       'proceedsFromRepaymentsOfShortTermDebt',\n",
      "       'paymentsForRepurchaseOfCommonStock', 'paymentsForRepurchaseOfEquity',\n",
      "       'paymentsForRepurchaseOfPreferredStock', 'dividendPayout',\n",
      "       'dividendPayoutCommonStock', 'dividendPayoutPreferredStock',\n",
      "       'proceedsFromIssuanceOfCommonStock',\n",
      "       'proceedsFromIssuanceOfLongTermDebtAndCapitalSecuritiesNet',\n",
      "       'proceedsFromIssuanceOfPreferredStock',\n",
      "       'proceedsFromRepurchaseOfEquity', 'proceedsFromSaleOfTreasuryStock',\n",
      "       'changeInCashAndCashEquivalents', 'changeInExchangeRate', 'netIncome'],\n",
      "      dtype='object')\n"
     ]
    }
   ],
   "source": [
    "# Available data\n",
    "print(\"Income Statement\\n\",df_income_statement.columns)\n",
    "print(\"Balance Sheet\\n\",df_balance_sheet.columns)\n",
    "print(\"Cash Flow\\n\",df_cash_flow.columns)"
   ]
  },
  {
   "cell_type": "code",
   "execution_count": 79,
   "id": "88c97ae5",
   "metadata": {},
   "outputs": [],
   "source": [
    "# TODO: Adjust all metrics such that they can be mapped to that of closing price (i.e the dates)\n",
    "\n",
    "# Often used terms\n",
    "net_income = df_income_statement['netIncome']\n",
    "equity = df_balance_sheet[\"totalShareholderEquity\"]\n",
    "outstandingShares = df_balance_sheet[\"commonStockSharesOutstanding\"]\n",
    "book_value = equity\n",
    "book_value_per_share = book_value/outstandingShares\n",
    "total_revenue =df_income_statement['totalRevenue']\n",
    "\n",
    "# Profitability Metrics\n",
    "EPS = (net_income-df_cash_flow[\"dividendPayoutPreferredStock\"])/outstandingShares\n",
    "ROE = net_income/equity\n",
    "net_Profit_Margin = net_income/total_revenue\n",
    "\n",
    "# Valuation Metrics--> MOST PROBLEMATIC HERE\n",
    "P_E_Ratio = closing_price/EPS\n",
    "P_B_Ratio = closing_price/book_value_per_share\n",
    "P_S_Ratio = closing_price*outstandingShares/total_revenue\n",
    "\n",
    "# Risk and Efficiency metrics\n",
    "D_E_Ratio = df_balance_sheet[\"shortLongTermDebtTotal\"]/equity\n",
    "Current_Ratio = df_balance_sheet[\"totalCurrentAssets\"]/df_balance_sheet[\"totalCurrentLiabilities\"]"
   ]
  },
  {
   "cell_type": "code",
   "execution_count": 81,
   "id": "57a833f0",
   "metadata": {},
   "outputs": [
    {
     "name": "stdout",
     "output_type": "stream",
     "text": [
      "<class 'pandas.core.series.Series'>\n",
      "                 EPS       ROE  D_E_Ratio  Current_Ratio\n",
      "dates                                                   \n",
      "2025-03-31  1.645841  0.370980   1.469938       0.820870\n",
      "2024-12-31  2.397883  0.544204   1.449999       0.922938\n",
      "2024-09-30  0.956380  0.258753   1.872327       0.867313\n",
      "2024-06-30  1.397430  0.321521   1.518618       0.952980\n",
      "2024-03-31  1.528383  0.318570   1.409683       1.037102\n",
      "...              ...       ...        ...            ...\n",
      "2006-03-31  0.016667  0.047224   0.000000       2.407989\n",
      "2005-12-31  0.023082  0.067422   0.000000       2.310474\n",
      "2005-09-30  0.017567  0.057594   0.000000       2.861366\n",
      "2005-06-30  0.013235  0.046767   0.000000       2.895293\n",
      "2005-03-31  0.012085  0.045412   0.000000       2.598449\n",
      "\n",
      "[81 rows x 4 columns]\n"
     ]
    },
    {
     "data": {
      "text/plain": [
       "'net_Profit_Margin.rename(\"Net_Profit_Margin\"),\\n    P_E_Ratio.rename(\\'P_E_Ratio\\'),\\n    P_B_Ratio.rename(\\'P_B_Ratio\\'),\\n    P_S_Ratio.rename(\\'P_S_Ratio\\'),\\n    D_E_Ratio.rename(\\'D_E_Ratio\\'),\\n    Current_Ratio.rename(\\'Current_Ratio\\')'"
      ]
     },
     "execution_count": 81,
     "metadata": {},
     "output_type": "execute_result"
    }
   ],
   "source": [
    "\n",
    "#print(df_balance_sheet.columns)\n",
    "\n",
    "outstandingShares_str = df_balance_sheet[\"commonStockSharesOutstanding\"]\n",
    "outstandingShares = outstandingShares_str.apply(pd.to_numeric, errors='coerce')\n",
    "df_metrics = pd.DataFrame()\n",
    "\n",
    "print(type(EPS))\n",
    "df_metrics = pd.concat([\n",
    "    EPS.rename('EPS'),\n",
    "    ROE.rename('ROE'),\n",
    "    D_E_Ratio.rename('D_E_Ratio'),\n",
    "    Current_Ratio.rename('Current_Ratio')\n",
    "\n",
    "], axis=1).dropna()\n",
    "\n",
    "print(df_metrics)\n",
    "\n",
    "\"\"\"net_Profit_Margin.rename(\"Net_Profit_Margin\"),\n",
    "    P_E_Ratio.rename('P_E_Ratio'),\n",
    "    P_B_Ratio.rename('P_B_Ratio'),\n",
    "    P_S_Ratio.rename('P_S_Ratio'),\n",
    "    D_E_Ratio.rename('D_E_Ratio'),\n",
    "    Current_Ratio.rename('Current_Ratio')\"\"\"\n"
   ]
  },
  {
   "cell_type": "code",
   "execution_count": null,
   "id": "82009ab8",
   "metadata": {},
   "outputs": [],
   "source": []
  }
 ],
 "metadata": {
  "kernelspec": {
   "display_name": "venv",
   "language": "python",
   "name": "python3"
  },
  "language_info": {
   "codemirror_mode": {
    "name": "ipython",
    "version": 3
   },
   "file_extension": ".py",
   "mimetype": "text/x-python",
   "name": "python",
   "nbconvert_exporter": "python",
   "pygments_lexer": "ipython3",
   "version": "3.10.12"
  }
 },
 "nbformat": 4,
 "nbformat_minor": 5
}
